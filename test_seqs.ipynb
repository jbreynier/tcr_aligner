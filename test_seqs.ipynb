{
 "cells": [
  {
   "cell_type": "code",
   "execution_count": 39,
   "metadata": {},
   "outputs": [],
   "source": [
    "import numpy as np\n",
    "import pandas as pd\n",
    "import time\n",
    "import matplotlib.pyplot as plt\n",
    "from Bio import Seq\n",
    "%matplotlib inline\n",
    "from tcraligner.alignment_functions import HashedAln"
   ]
  },
  {
   "cell_type": "markdown",
   "metadata": {},
   "source": [
    "### 1. Mismatch generation"
   ]
  },
  {
   "cell_type": "code",
   "execution_count": 78,
   "metadata": {},
   "outputs": [],
   "source": [
    "def generate_mismatches(ref_string_length, num_mismatches=1, num_desired_seq=10):\n",
    "\n",
    "    ref_seqs = []\n",
    "    returned_strings = []\n",
    "    for i in range(num_desired_seq):\n",
    "        choices = ['A','C','G','T']\n",
    "        ref_list = np.random.choice(choices, ref_string_length)\n",
    "        ref_seqs.append(''.join(ref_list))\n",
    "        mut_pos = np.random.choice(len(ref_list), num_mismatches, replace=False)\n",
    "        new_list = ref_list.copy()\n",
    "    \n",
    "        for j in mut_pos:\n",
    "            choices = ['A','C','G','T']\n",
    "            choices.remove(new_list[j])\n",
    "            new_list[j] = np.random.choice(choices)\n",
    "        new_string = ''.join(new_list)\n",
    "        returned_strings.append(new_string)\n",
    "    clones = pd.DataFrame({'ref_seq': ref_seqs, 'query_seq': returned_strings})\n",
    "    return clones"
   ]
  },
  {
   "cell_type": "code",
   "execution_count": null,
   "metadata": {},
   "outputs": [],
   "source": [
    "def generate_aa_mismatches(ref_string_length, num_mismatches=1, num_desired_seq=10):\n",
    "\n",
    "    ref_seqs = []\n",
    "    returned_strings = []\n",
    "    for i in range(num_desired_seq):\n",
    "        choices = ['A','C','D','E','F','G','H','I','K','L','M','N','P','Q','R','S','T','V','W','Y']\n",
    "\n",
    "        ref_list = np.random.choice(choices, ref_string_length)\n",
    "        ref_seqs.append(''.join(ref_list))\n",
    "        mut_pos = np.random.choice(len(ref_list), num_mismatches, replace=False)\n",
    "        new_list = ref_list.copy()\n",
    "    \n",
    "        for j in mut_pos:\n",
    "            choices = ['A','C','D','E','F','G','H','I','K','L','M','N','P','Q','R','S','T','V','W','Y']\n",
    "            choices.remove(new_list[j])\n",
    "            new_list[j] = np.random.choice(choices)\n",
    "        new_string = ''.join(new_list)\n",
    "        returned_strings.append(new_string)\n",
    "    clones = pd.DataFrame({'ref_seq': ref_seqs, 'query_seq': returned_strings})\n",
    "    return clones"
   ]
  },
  {
   "cell_type": "markdown",
   "metadata": {},
   "source": [
    "### Number of query seq 100, with varied string length and number of mismatches"
   ]
  },
  {
   "cell_type": "code",
   "execution_count": 74,
   "metadata": {},
   "outputs": [],
   "source": [
    "# Generate strings of length 5\n",
    "len5_mis1 = generate_mismatches(5, 1, 500)\n",
    "len5_mis2 = generate_mismatches(5, 2, 500)\n",
    "len5_mis3 = generate_mismatches(5, 3, 500)"
   ]
  },
  {
   "cell_type": "code",
   "execution_count": 137,
   "metadata": {},
   "outputs": [],
   "source": [
    "# Generate strings of length 10\n",
    "\n",
    "len10_mis1 = generate_mismatches(10, 1, 500)\n",
    "len10_mis2 = generate_mismatches(10, 2, 500)\n",
    "len10_mis3 = generate_mismatches(10, 3, 500)\n",
    "\n",
    "# Generate strings of length 20\n",
    "\n",
    "len20_mis1 = generate_mismatches(20, 1, 500)\n",
    "len20_mis2 = generate_mismatches(20, 2, 500)\n",
    "len20_mis3 = generate_mismatches(20, 3, 500)\n",
    "\n",
    "\n",
    "# Generate strings of length 40\n",
    "# ref_list40 = np.random.choice(choices, 40)\n",
    "# ref_string40 = ''.join(ref_list40)\n",
    "# print(ref_string40)\n",
    "len40_mis0 = generate_mismatches(40, 0, 500)\n",
    "len40_mis1 = generate_mismatches(40, 1, 500)\n",
    "len40_mis2 = generate_mismatches(40, 2, 500)\n",
    "len40_mis3 = generate_mismatches(40, 3, 500)\n",
    "len40_mis4 = generate_mismatches(40, 4, 500)\n",
    "len40_mis8 = generate_mismatches(40, 8, 500)\n",
    "len40_mis16 = generate_mismatches(40, 16, 500)\n",
    "len40_mis32 = generate_mismatches(40, 32, 500)\n",
    "# Generate strings of length 80\n",
    "\n",
    "len80_mis0 = generate_mismatches(80, 0, 500)\n",
    "len80_mis1 = generate_mismatches(80, 1, 500)\n",
    "len80_mis2 = generate_mismatches(80, 2, 500)\n",
    "len80_mis3 = generate_mismatches(80, 3, 500)\n",
    "len80_mis4 = generate_mismatches(80, 4, 500)\n",
    "len80_mis8 = generate_mismatches(80, 8, 500)"
   ]
  },
  {
   "cell_type": "markdown",
   "metadata": {},
   "source": [
    "### Generating same mismatches for amino acids"
   ]
  },
  {
   "cell_type": "code",
   "execution_count": 133,
   "metadata": {},
   "outputs": [],
   "source": [
    "def calculate_time(df, translate = False, kmer_size = 3):\n",
    "    if translate == True:\n",
    "        ref_aa = [Seq.translate(i) for i in df.ref_seq]\n",
    "        query_aa = [Seq.translate(j) for j in df.query_seq]\n",
    "        alnr = HashedAln(ref_aa, df.index, kmer_size)\n",
    "        alnr.build_index()\n",
    "        start = time.time()\n",
    "        res = alnr.align_clones(query_aa)\n",
    "        runtime = time.time()-start\n",
    "    else:\n",
    "        alnr = HashedAln(df.ref_seq, df.index, kmer_size)\n",
    "        alnr.build_index()\n",
    "        start = time.time()\n",
    "        res = alnr.align_clones(df.query_seq)\n",
    "        runtime = time.time()-start\n",
    "    \n",
    "    return runtime"
   ]
  },
  {
   "cell_type": "code",
   "execution_count": 93,
   "metadata": {},
   "outputs": [],
   "source": [
    "def pairwise_time(df):\n",
    "    alnr = HashedAln(df.ref_seq, df.index, 3)\n",
    "    alnr.build_index()\n",
    "    start = time.time()\n",
    "    res = alnr._align_clones_pairwise(df.query_seq)\n",
    "    runtime = time.time()-start\n",
    "    return runtime"
   ]
  },
  {
   "cell_type": "markdown",
   "metadata": {},
   "source": [
    "#### Mismatch 1, differing length and kmer size"
   ]
  },
  {
   "cell_type": "code",
   "execution_count": 139,
   "metadata": {},
   "outputs": [
    {
     "name": "stdout",
     "output_type": "stream",
     "text": [
      "Aligning with hash\n",
      "0 failed to align with hash, running standard pairwise alignment\n",
      "Done\n",
      "Aligning with hash\n",
      "0 failed to align with hash, running standard pairwise alignment\n",
      "Done\n",
      "Aligning with hash\n",
      "0 failed to align with hash, running standard pairwise alignment\n",
      "Done\n",
      "Aligning with hash\n",
      "0 failed to align with hash, running standard pairwise alignment\n",
      "Done\n",
      "Aligning with hash\n",
      "0 failed to align with hash, running standard pairwise alignment\n",
      "Done\n",
      "Aligning with hash\n",
      "0 failed to align with hash, running standard pairwise alignment\n",
      "Done\n",
      "Aligning with hash\n",
      "0 failed to align with hash, running standard pairwise alignment\n",
      "Done\n",
      "Aligning with hash\n",
      "0 failed to align with hash, running standard pairwise alignment\n",
      "Done\n",
      "Aligning with hash\n",
      "0 failed to align with hash, running standard pairwise alignment\n",
      "Done\n",
      "Aligning with hash\n",
      "0 failed to align with hash, running standard pairwise alignment\n",
      "Done\n",
      "Aligning with hash\n",
      "0 failed to align with hash, running standard pairwise alignment\n",
      "Done\n",
      "Aligning with hash\n",
      "0 failed to align with hash, running standard pairwise alignment\n",
      "Done\n",
      "Aligning with hash\n",
      "500 failed to align with hash, running standard pairwise alignment\n",
      "Done\n",
      "Aligning with hash\n",
      "0 failed to align with hash, running standard pairwise alignment\n",
      "Done\n",
      "Aligning with hash\n",
      "0 failed to align with hash, running standard pairwise alignment\n",
      "Done\n",
      "Aligning with hash\n",
      "0 failed to align with hash, running standard pairwise alignment\n",
      "Done\n",
      "Aligning with hash\n",
      "0 failed to align with hash, running standard pairwise alignment\n",
      "Done\n",
      "Aligning with hash\n",
      "0 failed to align with hash, running standard pairwise alignment\n",
      "Done\n",
      "Aligning with hash\n",
      "500 failed to align with hash, running standard pairwise alignment\n",
      "Done\n",
      "Aligning with hash\n",
      "0 failed to align with hash, running standard pairwise alignment\n",
      "Done\n",
      "Aligning with hash\n",
      "0 failed to align with hash, running standard pairwise alignment\n",
      "Done\n",
      "Aligning with hash\n",
      "0 failed to align with hash, running standard pairwise alignment\n",
      "Done\n",
      "Aligning with hash\n",
      "0 failed to align with hash, running standard pairwise alignment\n",
      "Done\n",
      "Aligning with hash\n",
      "0 failed to align with hash, running standard pairwise alignment\n",
      "Done\n"
     ]
    },
    {
     "data": {
      "text/plain": [
       "([<matplotlib.axis.XTick at 0x7f93105d5160>,\n",
       "  <matplotlib.axis.XTick at 0x7f93105d5a60>,\n",
       "  <matplotlib.axis.XTick at 0x7f9301406340>,\n",
       "  <matplotlib.axis.XTick at 0x7f93104d9460>,\n",
       "  <matplotlib.axis.XTick at 0x7f93104d9580>,\n",
       "  <matplotlib.axis.XTick at 0x7f93106baf70>],\n",
       " [Text(0, 0, '5'),\n",
       "  Text(1, 0, '10'),\n",
       "  Text(2, 0, '20'),\n",
       "  Text(3, 0, '40'),\n",
       "  Text(4, 0, '80'),\n",
       "  Text(5, 0, '160')])"
      ]
     },
     "execution_count": 139,
     "metadata": {},
     "output_type": "execute_result"
    },
    {
     "data": {
      "image/png": "[encoded data removed]",
      "text/plain": [
       "<Figure size 432x288 with 1 Axes>"
      ]
     },
     "metadata": {
      "needs_background": "light"
     },
     "output_type": "display_data"
    }
   ],
   "source": [
    "### Kmer with differing length\n",
    "len160_mis1 = generate_mismatches(160, 1, 500)\n",
    " \n",
    "kmer3_length = pd.DataFrame(columns = ['query_pattern', 'time_s'])\n",
    "kmer3_length.loc[0] = 'length_5', calculate_time(len5_mis1, kmer_size=3)\n",
    "kmer3_length.loc[1] = 'length_10', calculate_time(len10_mis1, kmer_size=3)\n",
    "kmer3_length.loc[2] = 'length_20', calculate_time(len20_mis1, kmer_size=3)\n",
    "kmer3_length.loc[3] = 'length_40', calculate_time(len40_mis1, kmer_size=3)\n",
    "kmer3_length.loc[4] = 'length_80', calculate_time(len80_mis1, kmer_size=3)\n",
    "kmer3_length.loc[5] = 'length_160', calculate_time(len160_mis1, kmer_size=3)\n",
    "\n",
    "kmer4_length = pd.DataFrame(columns = ['query_pattern', 'time_s'])\n",
    "kmer4_length.loc[0] = 'length_5', calculate_time(len5_mis1, kmer_size=4)\n",
    "kmer4_length.loc[1] = 'length_10', calculate_time(len10_mis1, kmer_size=4)\n",
    "kmer4_length.loc[2] = 'length_20', calculate_time(len20_mis1, kmer_size=4)\n",
    "kmer4_length.loc[3] = 'length_40', calculate_time(len40_mis1, kmer_size=4)\n",
    "kmer4_length.loc[4] = 'length_80', calculate_time(len80_mis1, kmer_size=4)\n",
    "kmer4_length.loc[5] = 'length_160', calculate_time(len160_mis1, kmer_size=4)\n",
    "\n",
    "kmer5_length = pd.DataFrame(columns = ['query_pattern', 'time_s'])\n",
    "kmer5_length.loc[0] = 'length_5', calculate_time(len5_mis1, kmer_size=5)\n",
    "kmer5_length.loc[1] = 'length_10', calculate_time(len10_mis1, kmer_size=5)\n",
    "kmer5_length.loc[2] = 'length_20', calculate_time(len20_mis1, kmer_size=5)\n",
    "kmer5_length.loc[3] = 'length_40', calculate_time(len40_mis1, kmer_size=5)\n",
    "kmer5_length.loc[4] = 'length_80', calculate_time(len80_mis1, kmer_size=5)\n",
    "kmer5_length.loc[5] = 'length_160', calculate_time(len160_mis1, kmer_size=5)\n",
    "\n",
    "kmer6_length = pd.DataFrame(columns = ['query_pattern', 'time_s'])\n",
    "kmer6_length.loc[0] = 'length_5', calculate_time(len5_mis1, kmer_size=6)\n",
    "kmer6_length.loc[1] = 'length_10', calculate_time(len10_mis1, kmer_size=6)\n",
    "kmer6_length.loc[2] = 'length_20', calculate_time(len20_mis1, kmer_size=6)\n",
    "kmer6_length.loc[3] = 'length_40', calculate_time(len40_mis1, kmer_size=6)\n",
    "kmer6_length.loc[4] = 'length_80', calculate_time(len80_mis1, kmer_size=6)\n",
    "kmer6_length.loc[5] = 'length_160', calculate_time(len160_mis1, kmer_size=6)\n",
    "\n",
    "\n",
    "plt.plot(kmer3_length.time_s, marker = 'o', color = 'black', label = 'kmer=3')\n",
    "plt.plot(kmer4_length.time_s, marker = 'o', color = 'royalblue', label = 'kmer=4')\n",
    "plt.plot(kmer5_length.time_s, marker = 'o', color = 'blue', label = 'kmer=5')\n",
    "plt.plot(kmer6_length.time_s, marker = 'o', color = 'green', label = 'kmer=6')\n",
    "plt.legend()\n",
    "plt.xlabel('Length of nucleotide sequence')\n",
    "plt.ylabel('Runtime in seconds')\n",
    "plt.title('Alignment runtime based on length and kmer size')\n",
    "plt.xticks([0,1,2,3,4,5], labels=[5,10,20,40,80,160])"
   ]
  },
  {
   "cell_type": "code",
   "execution_count": 140,
   "metadata": {},
   "outputs": [
    {
     "data": {
      "image/png": "[encoded data removed]",
      "text/plain": [
       "<Figure size 432x288 with 1 Axes>"
      ]
     },
     "metadata": {
      "needs_background": "light"
     },
     "output_type": "display_data"
    }
   ],
   "source": [
    "plt.plot(kmer3_length.time_s, marker = 'o', color = 'black', label = 'kmer=3')\n",
    "plt.plot(kmer4_length.time_s, marker = 'o', color = 'blue', label = 'kmer=4')\n",
    "plt.plot(kmer5_length.time_s, marker = 'o', color = 'orange', label = 'kmer=5')\n",
    "plt.plot(kmer6_length.time_s, marker = 'o', color = 'red', label = 'kmer=6')\n",
    "plt.legend()\n",
    "plt.xlabel('Length of nucleotide sequence')\n",
    "plt.ylabel('Runtime in seconds')\n",
    "plt.title('Alignment runtime based on length and kmer size')\n",
    "plt.xticks([0,1,2,3,4,5], labels=[5,10,20,40,80,160])\n",
    "#plt.savefig('./length_variation+kmersize.png', bbox_inches='tight')"
   ]
  },
  {
   "cell_type": "markdown",
   "metadata": {},
   "source": [
    "#### Mismatch 1, Differing length"
   ]
  },
  {
   "cell_type": "code",
   "execution_count": 95,
   "metadata": {},
   "outputs": [
    {
     "data": {
      "text/plain": [
       "Text(0.5, 1.0, 'Pairwise Alignment of sequences of different length')"
      ]
     },
     "execution_count": 95,
     "metadata": {},
     "output_type": "execute_result"
    },
    {
     "data": {
      "image/png": "[encoded data removed]",
      "text/plain": [
       "<Figure size 432x288 with 1 Axes>"
      ]
     },
     "metadata": {
      "needs_background": "light"
     },
     "output_type": "display_data"
    }
   ],
   "source": [
    "# Pairwise###\n",
    "len160_mis1 = generate_mismatches(160, 1, 500)\n",
    "\n",
    "\n",
    "pairwise_length = pd.DataFrame(columns = ['query_pattern', 'time_s'])\n",
    "pairwise_length.loc[0] = 'length_5', pairwise_time(len5_mis1)\n",
    "pairwise_length.loc[1] = 'length_10', pairwise_time(len10_mis1)\n",
    "pairwise_length.loc[2] = 'length_20', pairwise_time(len20_mis1)\n",
    "pairwise_length.loc[3] = 'length_40', pairwise_time(len40_mis1)\n",
    "pairwise_length.loc[4] = 'length_80', pairwise_time(len80_mis1)\n",
    "pairwise_length.loc[5] = 'length_160', pairwise_time(len160_mis1)\n",
    "plt.plot(pairwise_length.time_s, marker = 'o', color = 'red')\n",
    "plt.xticks([0,1,2,3,4,5], labels=[5,10,20,40,80,160])\n",
    "plt.xlabel('Length of sequences in nucleotides')\n",
    "plt.ylabel('Runtime in seconds')\n",
    "plt.title('Pairwise Alignment of sequences of different length')"
   ]
  },
  {
   "cell_type": "markdown",
   "metadata": {},
   "source": [
    "#### Differing number of clones (size)\n"
   ]
  },
  {
   "cell_type": "code",
   "execution_count": 97,
   "metadata": {},
   "outputs": [],
   "source": [
    "len20_mis1_500 = generate_mismatches(20, 1, 500)\n",
    "len20_mis1_1000 = generate_mismatches(20, 1, 1000)\n",
    "len20_mis1_2000 = generate_mismatches(20, 1, 2000)\n",
    "len20_mis1_3000 = generate_mismatches(20, 1, 3000)\n",
    "len20_mis1_4000 = generate_mismatches(20, 1, 4000)\n",
    "len20_mis1_5000 = generate_mismatches(20, 1, 5000)\n"
   ]
  },
  {
   "cell_type": "code",
   "execution_count": null,
   "metadata": {},
   "outputs": [],
   "source": [
    "pairwise_size = pd.DataFrame(columns = ['query_pattern', 'time_s'])\n",
    "pairwise_size.loc[0] = 'length_5', pairwise_time(len20_mis1_500)\n",
    "pairwise_size.loc[1] = 'length_10', pairwise_time(len20_mis1_1000)\n",
    "pairwise_size.loc[2] = 'length_20', pairwise_time(len20_mis1_2000)\n",
    "pairwise_size.loc[3] = 'length_40', pairwise_time(len20_mis1_3000)\n",
    "pairwise_size.loc[4] = 'length_80', pairwise_time(len20_mis1_4000)\n",
    "pairwise_size.loc[5] = 'length_160', pairwise_time(len20_mis1_5000)\n",
    "plt.plot(pairwise_size.time_s, marker = 'o', color = 'red')\n",
    "plt.xticks([0,1,2,3,4,5], labels=[500,1000,2000,3000,4000,5000])\n",
    "plt.xlabel('Number of clones')\n",
    "plt.ylabel('Runtime in seconds')\n",
    "plt.title('Pairwise Alignment of clones of different size')"
   ]
  },
  {
   "cell_type": "code",
   "execution_count": null,
   "metadata": {},
   "outputs": [],
   "source": [
    "hash_size = pd.DataFrame(columns = ['query_pattern', 'time_s'])\n",
    "hash_size.loc[0] = 'length_5', calculate_time(len20_mis1_500)\n",
    "hash_size.loc[1] = 'length_10', calculate_time(len20_mis1_1000)\n",
    "hash_size.loc[2] = 'length_20', calculate_time(len20_mis1_2000)\n",
    "hash_size.loc[3] = 'length_40', calculate_time(len20_mis1_3000)\n",
    "hash_size.loc[4] = 'length_80', calculate_time(len20_mis1_4000)\n",
    "hash_size.loc[5] = 'length_160', calculate_time(len20_mis1_5000)\n",
    "plt.plot(hash_size.time_s, marker = 'o', color = 'blue')\n",
    "plt.xticks([0,1,2,3,4,5], labels=[500,1000,2000,3000,4000,5000])\n",
    "plt.xlabel('Number of clones')\n",
    "plt.ylabel('Runtime in seconds')\n",
    "plt.title('Pairwise Alignment of clones of different size')"
   ]
  },
  {
   "cell_type": "markdown",
   "metadata": {},
   "source": [
    "### Amino Acid sequence\n"
   ]
  },
  {
   "cell_type": "code",
   "execution_count": 124,
   "metadata": {},
   "outputs": [],
   "source": [
    "aa_len5_mis1 = generate_aa_mismatches(5, 1, 500)\n",
    "aa_len10_mis1 = generate_aa_mismatches(10, 1, 500)\n",
    "aa_len20_mis1 = generate_aa_mismatches(20, 1, 500)\n",
    "aa_len40_mis1 = generate_aa_mismatches(40, 1, 500)\n",
    "aa_len80_mis1 = generate_aa_mismatches(80, 1, 500)\n",
    "aa_len160_mis1 = generate_aa_mismatches(160, 1, 500)"
   ]
  },
  {
   "cell_type": "code",
   "execution_count": 145,
   "metadata": {},
   "outputs": [
    {
     "name": "stdout",
     "output_type": "stream",
     "text": [
      "Aligning with hash\n",
      "0 failed to align with hash, running standard pairwise alignment\n",
      "Done\n",
      "Aligning with hash\n",
      "0 failed to align with hash, running standard pairwise alignment\n",
      "Done\n",
      "Aligning with hash\n",
      "0 failed to align with hash, running standard pairwise alignment\n",
      "Done\n",
      "Aligning with hash\n",
      "0 failed to align with hash, running standard pairwise alignment\n",
      "Done\n",
      "Aligning with hash\n",
      "0 failed to align with hash, running standard pairwise alignment\n",
      "Done\n",
      "Aligning with hash\n",
      "0 failed to align with hash, running standard pairwise alignment\n",
      "Done\n"
     ]
    }
   ],
   "source": [
    "results_df = pd.DataFrame(columns = ['length', 'time_s'])\n",
    "results_df.loc[0] = 'length_5', calculate_time(len5_mis1, False)\n",
    "results_df.loc[1] = 'length_10', calculate_time(len10_mis1, False)\n",
    "results_df.loc[2] = 'length_20', calculate_time(len20_mis1, False)\n",
    "results_df.loc[3] = 'length_40', calculate_time(len40_mis1, False)\n",
    "results_df.loc[4] = 'length_80', calculate_time(len80_mis1, False)\n",
    "results_df.loc[5] = 'length_160', calculate_time(len160_mis1, False)"
   ]
  },
  {
   "cell_type": "code",
   "execution_count": 146,
   "metadata": {},
   "outputs": [
    {
     "name": "stdout",
     "output_type": "stream",
     "text": [
      "Aligning with hash\n",
      "0 failed to align with hash, running standard pairwise alignment\n",
      "Done\n",
      "Aligning with hash\n",
      "0 failed to align with hash, running standard pairwise alignment\n",
      "Done\n",
      "Aligning with hash\n",
      "0 failed to align with hash, running standard pairwise alignment\n",
      "Done\n",
      "Aligning with hash\n",
      "0 failed to align with hash, running standard pairwise alignment\n",
      "Done\n",
      "Aligning with hash\n",
      "0 failed to align with hash, running standard pairwise alignment\n",
      "Done\n",
      "Aligning with hash\n",
      "0 failed to align with hash, running standard pairwise alignment\n",
      "Done\n"
     ]
    }
   ],
   "source": [
    "hash_aa = pd.DataFrame(columns = ['length', 'time_s'])\n",
    "hash_aa.loc[0] = 'length_5', calculate_time(aa_len5_mis1, False)\n",
    "hash_aa.loc[1] = 'length_10', calculate_time(aa_len10_mis1, False)\n",
    "hash_aa.loc[2] = 'length_20', calculate_time(aa_len20_mis1, False)\n",
    "hash_aa.loc[3] = 'length_40', calculate_time(aa_len40_mis1, False)\n",
    "hash_aa.loc[4] = 'length_80', calculate_time(aa_len80_mis1, False)\n",
    "hash_aa.loc[5] = 'length_160', calculate_time(aa_len160_mis1, False)"
   ]
  },
  {
   "cell_type": "code",
   "execution_count": 147,
   "metadata": {},
   "outputs": [
    {
     "data": {
      "text/plain": [
       "<matplotlib.legend.Legend at 0x7f9301261970>"
      ]
     },
     "execution_count": 147,
     "metadata": {},
     "output_type": "execute_result"
    },
    {
     "data": {
      "image/png": "[encoded data removed]",
      "text/plain": [
       "<Figure size 432x288 with 1 Axes>"
      ]
     },
     "metadata": {
      "needs_background": "light"
     },
     "output_type": "display_data"
    }
   ],
   "source": [
    "plt.plot(results_df.time_s, marker = 'o', label = 'nucleotide (bases)')\n",
    "plt.xticks([0,1,2,3,4,5], labels=[5,10,20,40,80,160])\n",
    "plt.xlabel('Length of sequence')\n",
    "plt.ylabel('Runtime in seconds')\n",
    "plt.title('Alignment of sequences of different length')\n",
    "plt.plot(hash_aa.time_s, marker = 'o', color = 'black', label = 'amino acid (codons)')\n",
    "plt.legend()\n",
    "#plt.savefig('./length_variation.png', bbox_inches='tight')"
   ]
  },
  {
   "cell_type": "markdown",
   "metadata": {},
   "source": [
    "#### Clone number"
   ]
  },
  {
   "cell_type": "code",
   "execution_count": 143,
   "metadata": {},
   "outputs": [
    {
     "name": "stdout",
     "output_type": "stream",
     "text": [
      "Aligning with hash\n",
      "0 failed to align with hash, running standard pairwise alignment\n",
      "Done\n",
      "Aligning with hash\n",
      "0 failed to align with hash, running standard pairwise alignment\n",
      "Done\n",
      "Aligning with hash\n",
      "0 failed to align with hash, running standard pairwise alignment\n",
      "Done\n",
      "Aligning with hash\n",
      "0 failed to align with hash, running standard pairwise alignment\n",
      "Done\n",
      "Aligning with hash\n",
      "0 failed to align with hash, running standard pairwise alignment\n",
      "Done\n",
      "Aligning with hash\n",
      "0 failed to align with hash, running standard pairwise alignment\n",
      "Done\n",
      "Aligning with hash\n",
      "0 failed to align with hash, running standard pairwise alignment\n",
      "Done\n",
      "Aligning with hash\n",
      "0 failed to align with hash, running standard pairwise alignment\n",
      "Done\n",
      "Aligning with hash\n",
      "0 failed to align with hash, running standard pairwise alignment\n",
      "Done\n",
      "Aligning with hash\n",
      "0 failed to align with hash, running standard pairwise alignment\n",
      "Done\n",
      "Aligning with hash\n",
      "0 failed to align with hash, running standard pairwise alignment\n",
      "Done\n",
      "Aligning with hash\n",
      "0 failed to align with hash, running standard pairwise alignment\n",
      "Done\n",
      "Aligning with hash\n",
      "0 failed to align with hash, running standard pairwise alignment\n",
      "Done\n",
      "Aligning with hash\n",
      "0 failed to align with hash, running standard pairwise alignment\n",
      "Done\n",
      "Aligning with hash\n",
      "0 failed to align with hash, running standard pairwise alignment\n",
      "Done\n",
      "Aligning with hash\n",
      "0 failed to align with hash, running standard pairwise alignment\n",
      "Done\n",
      "Aligning with hash\n",
      "0 failed to align with hash, running standard pairwise alignment\n",
      "Done\n",
      "Aligning with hash\n",
      "0 failed to align with hash, running standard pairwise alignment\n",
      "Done\n",
      "Aligning with hash\n",
      "0 failed to align with hash, running standard pairwise alignment\n",
      "Done\n",
      "Aligning with hash\n",
      "0 failed to align with hash, running standard pairwise alignment\n",
      "Done\n",
      "Aligning with hash\n",
      "0 failed to align with hash, running standard pairwise alignment\n",
      "Done\n",
      "Aligning with hash\n",
      "0 failed to align with hash, running standard pairwise alignment\n",
      "Done\n",
      "Aligning with hash\n",
      "0 failed to align with hash, running standard pairwise alignment\n",
      "Done\n",
      "Aligning with hash\n",
      "0 failed to align with hash, running standard pairwise alignment\n",
      "Done\n"
     ]
    }
   ],
   "source": [
    "kmer3_size = pd.DataFrame(columns = ['query_pattern', 'time_s'])\n",
    "kmer3_size.loc[0] = 'length_5', calculate_time(len20_mis1_500, kmer_size=3)\n",
    "kmer3_size.loc[1] = 'length_10', calculate_time(len20_mis1_1000, kmer_size=3)\n",
    "kmer3_size.loc[2] = 'length_20', calculate_time(len20_mis1_2000, kmer_size=3)\n",
    "kmer3_size.loc[3] = 'length_40', calculate_time(len20_mis1_3000, kmer_size=3)\n",
    "kmer3_size.loc[4] = 'length_80', calculate_time(len20_mis1_4000, kmer_size=3)\n",
    "kmer3_size.loc[5] = 'length_160', calculate_time(len20_mis1_5000, kmer_size=3)\n",
    "\n",
    "kmer4_size = pd.DataFrame(columns=['pattern', 'time_s'])\n",
    "kmer4_size.loc[0] = 'length_5', calculate_time(len20_mis1_500, kmer_size=4)\n",
    "kmer4_size.loc[1] = 'length_10', calculate_time(len20_mis1_1000, kmer_size=4)\n",
    "kmer4_size.loc[2] = 'length_20', calculate_time(len20_mis1_2000, kmer_size=4)\n",
    "kmer4_size.loc[3] = 'length_40', calculate_time(len20_mis1_3000, kmer_size=4)\n",
    "kmer4_size.loc[4] = 'length_80', calculate_time(len20_mis1_4000, kmer_size=4)\n",
    "kmer4_size.loc[5] = 'length_160', calculate_time(len20_mis1_5000, kmer_size=4)\n",
    "\n",
    "kmer5_size = pd.DataFrame(columns=['pattern', 'time_s'])\n",
    "kmer5_size.loc[0] = 'length_5', calculate_time(len20_mis1_500, kmer_size=5)\n",
    "kmer5_size.loc[1] = 'length_10', calculate_time(len20_mis1_1000, kmer_size=5)\n",
    "kmer5_size.loc[2] = 'length_20', calculate_time(len20_mis1_2000, kmer_size=5)\n",
    "kmer5_size.loc[3] = 'length_40', calculate_time(len20_mis1_3000, kmer_size=5)\n",
    "kmer5_size.loc[4] = 'length_80', calculate_time(len20_mis1_4000, kmer_size=5)\n",
    "kmer5_size.loc[5] = 'length_160', calculate_time(len20_mis1_5000, kmer_size=5)\n",
    "\n",
    "kmer6_size = pd.DataFrame(columns=['pattern', 'time_s'])\n",
    "kmer6_size.loc[0] = 'length_5', calculate_time(len20_mis1_500, kmer_size=6)\n",
    "kmer6_size.loc[1] = 'length_10', calculate_time(len20_mis1_1000, kmer_size=6)\n",
    "kmer6_size.loc[2] = 'length_20', calculate_time(len20_mis1_2000, kmer_size=6)\n",
    "kmer6_size.loc[3] = 'length_40', calculate_time(len20_mis1_3000, kmer_size=6)\n",
    "kmer6_size.loc[4] = 'length_80', calculate_time(len20_mis1_4000, kmer_size=6)\n",
    "kmer6_size.loc[5] = 'length_160', calculate_time(len20_mis1_5000, kmer_size=6)"
   ]
  },
  {
   "cell_type": "code",
   "execution_count": 144,
   "metadata": {},
   "outputs": [
    {
     "data": {
      "text/plain": [
       "([<matplotlib.axis.XTick at 0x7f9301651d90>,\n",
       "  <matplotlib.axis.XTick at 0x7f9301651970>,\n",
       "  <matplotlib.axis.XTick at 0x7f93015d76a0>,\n",
       "  <matplotlib.axis.XTick at 0x7f930162f340>,\n",
       "  <matplotlib.axis.XTick at 0x7f93106c0eb0>,\n",
       "  <matplotlib.axis.XTick at 0x7f9301648f40>],\n",
       " [Text(0, 0, '500'),\n",
       "  Text(1, 0, '1000'),\n",
       "  Text(2, 0, '2000'),\n",
       "  Text(3, 0, '3000'),\n",
       "  Text(4, 0, '4000'),\n",
       "  Text(5, 0, '5000')])"
      ]
     },
     "execution_count": 144,
     "metadata": {},
     "output_type": "execute_result"
    },
    {
     "data": {
      "image/png": "[encoded data removed]",
      "text/plain": [
       "<Figure size 432x288 with 1 Axes>"
      ]
     },
     "metadata": {
      "needs_background": "light"
     },
     "output_type": "display_data"
    }
   ],
   "source": [
    "plt.plot(kmer3_size.time_s, marker = 'o', color = 'black', label = 'kmer=3')\n",
    "plt.plot(kmer4_size.time_s, marker = 'o', color = 'blue', label = 'kmer=4')\n",
    "plt.plot(kmer5_size.time_s, marker = 'o', color = 'orange', label = 'kmer=5')\n",
    "plt.plot(kmer6_size.time_s, marker = 'o', color = 'red', label = 'kmer=6')\n",
    "plt.legend()\n",
    "plt.xlabel('Size of clones (#)')\n",
    "plt.ylabel('Runtime in seconds')\n",
    "plt.title('Alignment runtime based on clone size and kmer size')\n",
    "plt.xticks([0,1,2,3,4,5], labels=[500,1000,2000,3000,4000,5000])\n",
    "#plt.savefig('./size_variation+kmersize.png', bbox_inches='tight')"
   ]
  },
  {
   "cell_type": "code",
   "execution_count": null,
   "metadata": {},
   "outputs": [],
   "source": []
  }
 ],
 "metadata": {
  "interpreter": {
   "hash": "2de583ecb4d0db7406a25e85e02e6354ac7260aa3cdd3e9ef5549fdf58192a24"
  },
  "kernelspec": {
   "display_name": "Python 3.8.8 ('base')",
   "language": "python",
   "name": "python3"
  },
  "language_info": {
   "codemirror_mode": {
    "name": "ipython",
    "version": 3
   },
   "file_extension": ".py",
   "mimetype": "text/x-python",
   "name": "python",
   "nbconvert_exporter": "python",
   "pygments_lexer": "ipython3",
   "version": "3.8.8"
  },
  "orig_nbformat": 4
 },
 "nbformat": 4,
 "nbformat_minor": 2
}
