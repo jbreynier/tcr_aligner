{
 "cells": [
  {
   "cell_type": "code",
   "execution_count": 39,
   "metadata": {},
   "outputs": [],
   "source": [
    "import numpy as np\n",
    "import pandas as pd\n",
    "import time\n",
    "import matplotlib.pyplot as plt\n",
    "%matplotlib inline\n",
    "from tcraligner.alignment_functions import HashedAln"
   ]
  },
  {
   "cell_type": "markdown",
   "metadata": {},
   "source": [
    "### 1. String length"
   ]
  },
  {
   "cell_type": "code",
   "execution_count": 4,
   "metadata": {},
   "outputs": [
    {
     "data": {
      "text/plain": [
       "['CACGT', 'ATCGT', 'AAGGT', 'AACCT', 'AACGA']"
      ]
     },
     "execution_count": 4,
     "metadata": {},
     "output_type": "execute_result"
    }
   ],
   "source": [
    "# String length 5, allowing 1 mismatch \n",
    "str_var1 = list(\"AACGT\")\n",
    "queries = []\n",
    "for i in range(len(str_var1)) :\n",
    "    new_list = str_var1.copy()\n",
    "    choices = ['A', 'C','G','T']\n",
    "    choices.remove(new_list[i])\n",
    "    new_list[i] = np.random.choice(choices)\n",
    "    new_string = ''.join(new_list)\n",
    "    queries.append(new_string)\n",
    "queries"
   ]
  },
  {
   "cell_type": "code",
   "execution_count": 5,
   "metadata": {},
   "outputs": [
    {
     "name": "stdout",
     "output_type": "stream",
     "text": [
      "[2 0]\n",
      "[1 2]\n",
      "[2 0]\n"
     ]
    },
    {
     "data": {
      "text/plain": [
       "['CAGGT', 'ATAGT', 'GATGT']"
      ]
     },
     "execution_count": 5,
     "metadata": {},
     "output_type": "execute_result"
    }
   ],
   "source": [
    "# generating 10 random mutations with 2 mismatches\n",
    "str_var1 = list(\"AACGT\")\n",
    "queries2 = []\n",
    "for i in range(3):\n",
    "    mut_pos = np.random.choice(len(str_var1), 2, replace=False)\n",
    "    print(mut_pos)\n",
    "    new_list = str_var1.copy()\n",
    "    \n",
    "    for j in mut_pos:\n",
    "        choices = ['A','C','G','T']\n",
    "        choices.remove(new_list[j])\n",
    "        new_list[j] = np.random.choice(choices)\n",
    "    new_string = ''.join(new_list)\n",
    "    queries2.append(new_string)\n",
    "queries2"
   ]
  },
  {
   "cell_type": "code",
   "execution_count": 78,
   "metadata": {},
   "outputs": [],
   "source": [
    "def generate_mismatches(ref_string_length, num_mismatches=1, num_desired_seq=10):\n",
    "\n",
    "    ref_seqs = []\n",
    "    returned_strings = []\n",
    "    for i in range(num_desired_seq):\n",
    "        choices = ['A','C','G','T']\n",
    "        ref_list = np.random.choice(choices, ref_string_length)\n",
    "        ref_seqs.append(''.join(ref_list))\n",
    "        mut_pos = np.random.choice(len(ref_list), num_mismatches, replace=False)\n",
    "        new_list = ref_list.copy()\n",
    "    \n",
    "        for j in mut_pos:\n",
    "            choices = ['A','C','G','T']\n",
    "            choices.remove(new_list[j])\n",
    "            new_list[j] = np.random.choice(choices)\n",
    "        new_string = ''.join(new_list)\n",
    "        returned_strings.append(new_string)\n",
    "    clones = pd.DataFrame({'ref_seq': ref_seqs, 'query_seq': returned_strings})\n",
    "    return clones"
   ]
  },
  {
   "cell_type": "markdown",
   "metadata": {},
   "source": [
    "### Number of query seq 100, with varied string length and number of mismatches"
   ]
  },
  {
   "cell_type": "code",
   "execution_count": 36,
   "metadata": {},
   "outputs": [
    {
     "data": {
      "text/plain": [
       "array(['G', 'C', 'T', 'A', 'C'], dtype='<U1')"
      ]
     },
     "execution_count": 36,
     "metadata": {},
     "output_type": "execute_result"
    }
   ],
   "source": [
    "choices = ['A','C','G','T']\n",
    "ref_list = np.random.choice(choices, 5)\n",
    "ref_string = ''.join(ref_list)"
   ]
  },
  {
   "cell_type": "code",
   "execution_count": 74,
   "metadata": {},
   "outputs": [],
   "source": [
    "# Generate strings of length 5\n",
    "len5_mis1 = generate_mismatches(5, 1, 500)\n",
    "len5_mis2 = generate_mismatches(5, 2, 500)\n",
    "len5_mis3 = generate_mismatches(5, 3, 500)"
   ]
  },
  {
   "cell_type": "code",
   "execution_count": 75,
   "metadata": {},
   "outputs": [],
   "source": [
    "# Generate strings of length 10\n",
    "\n",
    "len10_mis1 = generate_mismatches(10, 1, 500)\n",
    "len10_mis2 = generate_mismatches(10, 2, 500)\n",
    "len10_mis3 = generate_mismatches(10, 3, 500)\n",
    "\n",
    "# Generate strings of length 20\n",
    "\n",
    "len20_mis1 = generate_mismatches(20, 1, 500)\n",
    "len20_mis2 = generate_mismatches(20, 2, 500)\n",
    "len20_mis3 = generate_mismatches(20, 3, 500)\n",
    "\n",
    "# Generate strings of length 40\n",
    "# ref_list40 = np.random.choice(choices, 40)\n",
    "# ref_string40 = ''.join(ref_list40)\n",
    "# print(ref_string40)\n",
    "len40_mis1 = generate_mismatches(40, 1, 500)\n",
    "len40_mis2 = generate_mismatches(40, 2, 500)\n",
    "len40_mis3 = generate_mismatches(40, 3, 500)\n",
    "\n",
    "# Generate strings of length 80\n",
    "\n",
    "len80_mis0 = generate_mismatches(80, 0, 500)\n",
    "len80_mis1 = generate_mismatches(80, 1, 500)\n",
    "len80_mis2 = generate_mismatches(80, 2, 500)\n",
    "len80_mis3 = generate_mismatches(80, 3, 500)\n",
    "len80_mis4 = generate_mismatches(80, 4, 500)\n",
    "len80_mis8 = generate_mismatches(80, 8, 500)"
   ]
  },
  {
   "cell_type": "markdown",
   "metadata": {},
   "source": [
    "### Generating same mismatches for amino acids"
   ]
  },
  {
   "cell_type": "code",
   "execution_count": 60,
   "metadata": {},
   "outputs": [],
   "source": [
    "def calculate_time(df):\n",
    "    #results_df = pd.DataFrame(columns = ['query_pattern', 'time_s'])\n",
    "    alnr = HashedAln(df.ref_seq, df.index, 3)\n",
    "    alnr.build_index()\n",
    "    start = time.time()\n",
    "    res = alnr.align_clones(df.query_seq)\n",
    "    runtime = time.time()-start\n",
    "    return runtime"
   ]
  },
  {
   "cell_type": "code",
   "execution_count": 86,
   "metadata": {},
   "outputs": [
    {
     "name": "stdout",
     "output_type": "stream",
     "text": [
      "Aligning with hash\n",
      "0 failed to align with hash, running standard pairwise alignment\n",
      "Done\n",
      "Aligning with hash\n",
      "0 failed to align with hash, running standard pairwise alignment\n",
      "Done\n",
      "Aligning with hash\n",
      "0 failed to align with hash, running standard pairwise alignment\n",
      "Done\n",
      "Aligning with hash\n",
      "0 failed to align with hash, running standard pairwise alignment\n",
      "Done\n",
      "Aligning with hash\n",
      "0 failed to align with hash, running standard pairwise alignment\n",
      "Done\n",
      "Aligning with hash\n",
      "0 failed to align with hash, running standard pairwise alignment\n",
      "Done\n"
     ]
    },
    {
     "data": {
      "text/plain": [
       "(12.0, 16.0)"
      ]
     },
     "execution_count": 86,
     "metadata": {},
     "output_type": "execute_result"
    },
    {
     "data": {
      "image/png": "[encoded data removed]",
      "text/plain": [
       "<Figure size 432x288 with 1 Axes>"
      ]
     },
     "metadata": {
      "needs_background": "light"
     },
     "output_type": "display_data"
    }
   ],
   "source": [
    "# Testing time with differing number of matches\n",
    "len80_mis0 = generate_mismatches(80, 0, 500)\n",
    "len80_mis1 = generate_mismatches(80, 1, 500)\n",
    "len80_mis2 = generate_mismatches(80, 2, 500)\n",
    "len80_mis3 = generate_mismatches(80, 3, 500)\n",
    "len80_mis4 = generate_mismatches(80, 4, 500)\n",
    "len80_mis8 = generate_mismatches(80, 8, 500)\n",
    "len80_mis16 = generate_mismatches(80, 16, 500)\n",
    "\n",
    "mismatches = pd.DataFrame(columns = ['mismatches', 'time_s'])\n",
    "mismatches.loc[0] = 'mismatch_0', calculate_time(len80_mis0)\n",
    "mismatches.loc[1] = 'mismatch_1', calculate_time(len80_mis1)\n",
    "mismatches.loc[2] = 'mismatch_2', calculate_time(len80_mis2)\n",
    "mismatches.loc[3] = 'mismatch_4', calculate_time(len80_mis4)\n",
    "mismatches.loc[4] = 'mismatch_8', calculate_time(len80_mis8)\n",
    "mismatches.loc[5] = 'mismatch_16', calculate_time(len80_mis16)\n",
    "\n",
    "\n",
    "\n",
    "plt.plot(mismatches.time_s, marker = 'o')\n",
    "plt.xticks([0,1,2,3,4,5], labels=[0,1,2,4,8,16])\n",
    "plt.xlabel('Number of mismatches')\n",
    "plt.ylabel('Runtime in seconds')\n",
    "plt.ylim(1, 15)\n",
    "plt.ylim(10, 20)\n",
    "plt.savefig()"
   ]
  },
  {
   "cell_type": "code",
   "execution_count": 83,
   "metadata": {},
   "outputs": [
    {
     "data": {
      "text/plain": [
       "(10.0, 20.0)"
      ]
     },
     "execution_count": 83,
     "metadata": {},
     "output_type": "execute_result"
    },
    {
     "data": {
      "image/png": "[encoded data removed]",
      "text/plain": [
       "<Figure size 432x288 with 1 Axes>"
      ]
     },
     "metadata": {
      "needs_background": "light"
     },
     "output_type": "display_data"
    }
   ],
   "source": [
    "\n",
    "plt.plot(mismatches.time_s, marker = 'o')\n",
    "plt.xticks([0,1,2,4,8])\n",
    "plt.xlabel('Number of mismatches')\n",
    "plt.ylabel('Runtime in seconds')\n",
    "plt.ylim(10, 20)"
   ]
  },
  {
   "cell_type": "code",
   "execution_count": null,
   "metadata": {},
   "outputs": [],
   "source": [
    "results_df = pd.DataFrame(columns = ['query_pattern', 'time_s'])\n",
    "results_df.loc[0] = 'length_5', calculate_time(len5_mis1)\n",
    "results_df.loc[1] = 'length_10', calculate_time(len10_mis1)\n",
    "results_df.loc[2] = 'length_20', calculate_time(len20_mis1)\n",
    "results_df.loc[3] = 'length_40', calculate_time(len40_mis1)\n",
    "results_df.loc[4] = 'length_80', calculate_time(len80_mis1)\n"
   ]
  },
  {
   "cell_type": "code",
   "execution_count": 62,
   "metadata": {},
   "outputs": [
    {
     "name": "stdout",
     "output_type": "stream",
     "text": [
      "Aligning with hash\n",
      "0 failed to align with hash, running standard pairwise alignment\n",
      "Done\n",
      "Aligning with hash\n",
      "0 failed to align with hash, running standard pairwise alignment\n",
      "Done\n",
      "Aligning with hash\n",
      "0 failed to align with hash, running standard pairwise alignment\n",
      "Done\n",
      "Aligning with hash\n",
      "0 failed to align with hash, running standard pairwise alignment\n",
      "Done\n",
      "Aligning with hash\n",
      "0 failed to align with hash, running standard pairwise alignment\n",
      "Done\n"
     ]
    },
    {
     "data": {
      "text/html": [
       "<div>\n",
       "<style scoped>\n",
       "    .dataframe tbody tr th:only-of-type {\n",
       "        vertical-align: middle;\n",
       "    }\n",
       "\n",
       "    .dataframe tbody tr th {\n",
       "        vertical-align: top;\n",
       "    }\n",
       "\n",
       "    .dataframe thead th {\n",
       "        text-align: right;\n",
       "    }\n",
       "</style>\n",
       "<table border=\"1\" class=\"dataframe\">\n",
       "  <thead>\n",
       "    <tr style=\"text-align: right;\">\n",
       "      <th></th>\n",
       "      <th>query_pattern</th>\n",
       "      <th>time_s</th>\n",
       "    </tr>\n",
       "  </thead>\n",
       "  <tbody>\n",
       "    <tr>\n",
       "      <th>0</th>\n",
       "      <td>mis2_length_5</td>\n",
       "      <td>0.642049</td>\n",
       "    </tr>\n",
       "    <tr>\n",
       "      <th>1</th>\n",
       "      <td>mis2_length_10</td>\n",
       "      <td>2.545990</td>\n",
       "    </tr>\n",
       "    <tr>\n",
       "      <th>2</th>\n",
       "      <td>mis2_length_20</td>\n",
       "      <td>3.758566</td>\n",
       "    </tr>\n",
       "    <tr>\n",
       "      <th>3</th>\n",
       "      <td>mis2_length_40</td>\n",
       "      <td>10.749276</td>\n",
       "    </tr>\n",
       "    <tr>\n",
       "      <th>4</th>\n",
       "      <td>mis2_length_80</td>\n",
       "      <td>23.728556</td>\n",
       "    </tr>\n",
       "  </tbody>\n",
       "</table>\n",
       "</div>"
      ],
      "text/plain": [
       "    query_pattern     time_s\n",
       "0   mis2_length_5   0.642049\n",
       "1  mis2_length_10   2.545990\n",
       "2  mis2_length_20   3.758566\n",
       "3  mis2_length_40  10.749276\n",
       "4  mis2_length_80  23.728556"
      ]
     },
     "execution_count": 62,
     "metadata": {},
     "output_type": "execute_result"
    }
   ],
   "source": [
    "results_df2 = pd.DataFrame(columns = ['query_pattern', 'time_s'])\n",
    "results_df2.loc[0] = 'mis2_length_5', calculate_time(len5_mis2)\n",
    "results_df2.loc[1] = 'mis2_length_10', calculate_time(len10_mis2)\n",
    "results_df2.loc[2] = 'mis2_length_20', calculate_time(len20_mis2)\n",
    "results_df2.loc[3] = 'mis2_length_40', calculate_time(len40_mis2)\n",
    "results_df2.loc[4] = 'mis2_length_80', calculate_time(len80_mis2)\n",
    "results_df2"
   ]
  },
  {
   "cell_type": "code",
   "execution_count": 63,
   "metadata": {},
   "outputs": [
    {
     "name": "stdout",
     "output_type": "stream",
     "text": [
      "Aligning with hash\n",
      "0 failed to align with hash, running standard pairwise alignment\n",
      "Done\n",
      "Aligning with hash\n",
      "0 failed to align with hash, running standard pairwise alignment\n",
      "Done\n",
      "Aligning with hash\n",
      "0 failed to align with hash, running standard pairwise alignment\n",
      "Done\n",
      "Aligning with hash\n",
      "0 failed to align with hash, running standard pairwise alignment\n",
      "Done\n",
      "Aligning with hash\n",
      "0 failed to align with hash, running standard pairwise alignment\n",
      "Done\n"
     ]
    }
   ],
   "source": [
    "results_df3 = pd.DataFrame(columns = ['query_pattern', 'time_s'])\n",
    "results_df3.loc[0] = 'mis3_length_5', calculate_time(len5_mis2)\n",
    "results_df3.loc[1] = 'mis3_length_10', calculate_time(len10_mis2)\n",
    "results_df3.loc[2] = 'mis3_length_20', calculate_time(len20_mis2)\n",
    "results_df3.loc[3] = 'mis3_length_40', calculate_time(len40_mis2)\n",
    "results_df3.loc[4] = 'mis3_length_80', calculate_time(len80_mis2)"
   ]
  },
  {
   "cell_type": "code",
   "execution_count": 64,
   "metadata": {},
   "outputs": [
    {
     "data": {
      "text/plain": [
       "[<matplotlib.lines.Line2D at 0x7f92e0d1de20>]"
      ]
     },
     "execution_count": 64,
     "metadata": {},
     "output_type": "execute_result"
    },
    {
     "data": {
      "image/png": "[encoded data removed]",
      "text/plain": [
       "<Figure size 432x288 with 1 Axes>"
      ]
     },
     "metadata": {
      "needs_background": "light"
     },
     "output_type": "display_data"
    }
   ],
   "source": [
    "plt.plot(results_df.time_s)\n",
    "plt.plot(results_df2.time_s, color = 'green')\n",
    "plt.plot(results_df3.time_s, color = 'orange')"
   ]
  },
  {
   "cell_type": "code",
   "execution_count": 48,
   "metadata": {},
   "outputs": [
    {
     "data": {
      "text/plain": [
       "5     0.025510\n",
       "6     0.110036\n",
       "7     0.154133\n",
       "8     0.423380\n",
       "10    0.972778\n",
       "Name: time_s, dtype: float64"
      ]
     },
     "execution_count": 48,
     "metadata": {},
     "output_type": "execute_result"
    }
   ],
   "source": [
    "results_df[5:].time_s"
   ]
  },
  {
   "cell_type": "code",
   "execution_count": null,
   "metadata": {},
   "outputs": [],
   "source": []
  }
 ],
 "metadata": {
  "interpreter": {
   "hash": "2de583ecb4d0db7406a25e85e02e6354ac7260aa3cdd3e9ef5549fdf58192a24"
  },
  "kernelspec": {
   "display_name": "Python 3.8.8 ('base')",
   "language": "python",
   "name": "python3"
  },
  "language_info": {
   "codemirror_mode": {
    "name": "ipython",
    "version": 3
   },
   "file_extension": ".py",
   "mimetype": "text/x-python",
   "name": "python",
   "nbconvert_exporter": "python",
   "pygments_lexer": "ipython3",
   "version": "3.8.8"
  },
  "orig_nbformat": 4
 },
 "nbformat": 4,
 "nbformat_minor": 2
}
